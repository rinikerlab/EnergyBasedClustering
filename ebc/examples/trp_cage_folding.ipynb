{
 "cells": [
  {
   "cell_type": "code",
   "execution_count": null,
   "id": "e46fcd51-1336-4bb5-ae21-ea6191809ceb",
   "metadata": {},
   "outputs": [],
   "source": [
    "from collections import Counter\n",
    "\n",
    "from sklearn.decomposition import PCA\n",
    "from scipy.spatial.distance import cdist, pdist, squareform\n",
    "from scipy.constants import k, Avogadro\n",
    "\n",
    "import networkx as nx\n",
    "import numpy as np\n",
    "import matplotlib.pyplot as plt\n",
    "import mdtraj as md\n",
    "\n",
    "from EBC import EBC"
   ]
  },
  {
   "cell_type": "code",
   "execution_count": null,
   "id": "eb484015-2009-47d2-8555-c935b4d488b2",
   "metadata": {},
   "outputs": [],
   "source": [
    "plt.rc('text', usetex=True)\n",
    "plt.rc('font', family='serif')\n",
    "plt.rc('font', size=48)\n",
    "\n",
    "COLORMAP = np.array(['#C40E63','#001180','#F5B709','#0EA6C2','#DB611A','#C70202','#2EBD8E','#007828'])"
   ]
  },
  {
   "cell_type": "code",
   "execution_count": null,
   "id": "49c30ad0-bde0-4c36-a0ad-4d5d673a179c",
   "metadata": {},
   "outputs": [],
   "source": [
    "def plot_graph_and_clusters(ebc, tau, n=8, overlap_cutoff=7, save_pdb_frames=False, save_name_cluster=None, save_name_graph=None):\n",
    "    flow = np.linalg.matrix_power(ebc.diffusion_matrix, int(tau))\n",
    "    target_set = [tuple(sorted(x)) for x in np.argsort(-flow, axis=1)[:, :n]]\n",
    "    counter = Counter(target_set)\n",
    "    nodes, edges, node_dict = [], [], {}\n",
    "    for idk, key in enumerate(target_set):\n",
    "        if counter[key] > 0 and key not in nodes:\n",
    "            nodes.append(key)\n",
    "        if key not in node_dict:\n",
    "            node_dict[key] = []\n",
    "        node_dict[key].append(idk)\n",
    "    g = nx.Graph()\n",
    "    g.add_nodes_from(nodes)\n",
    "    for ida, node_a in enumerate(nodes):\n",
    "        for idb, node_b in enumerate(nodes[ida+1:]):\n",
    "            overlap_value = len(set(node_a) & set(node_b)) \n",
    "            if overlap_value >= overlap_cutoff: \n",
    "                edges.append((node_a, node_b))\n",
    "    g.add_edges_from(edges)\n",
    "    g = g.subgraph(sorted(nx.connected_components(g), key=len, reverse=True)[0])\n",
    "    node_color = np.array([np.mean(ebc.pi[list(x)]) for x in g.nodes]) * 1e3\n",
    "\n",
    "    plt.figure(0, figsize=(24, 20), dpi=120)\n",
    "    ax = plt.gca()\n",
    "    pos = nx.kamada_kawai_layout(g)\n",
    "    nx.draw_networkx_edges(g, pos=pos, ax=ax, width=1, alpha=1, arrows=False, edge_color='black')\n",
    "    pc = nx.draw_networkx_nodes(g, pos=pos, ax=ax, node_color=node_color, cmap=plt.cm.inferno)\n",
    "    cbar = plt.colorbar(pc)\n",
    "    cbar.set_label('Population', labelpad=30) \n",
    "    cbar.outline.set_visible(False)\n",
    "    plt.box(False)\n",
    "    ax.grid(False)\n",
    "    plt.axis('off')\n",
    "    if save_name_graph is not None:\n",
    "        plt.savefig(save_name_graph, bbox_inches='tight')\n",
    "    plt.show()\n",
    "\n",
    "    node_color_ids, states_list, state_id_dict = [], [],  {}\n",
    "    for key in g.nodes:\n",
    "        cluster_id = Counter(ebc.proto_labels[list(key)]).most_common()[0][0]\n",
    "        node_color_ids.append(cluster_id)\n",
    "        if cluster_id not in state_id_dict:\n",
    "            state_id_dict[cluster_id] = []\n",
    "        state_id_dict[cluster_id].extend(key)\n",
    "        states_list.append(node_dict[key])\n",
    "    states_list = np.array(states_list)\n",
    "    node_color = COLORMAP[np.array(node_color_ids)]\n",
    "    labeldict = {}\n",
    "    for cid, key in zip(node_color_ids, g.nodes):\n",
    "        labeldict[key] = cid\n",
    "\n",
    "    plt.figure(1, figsize=(20, 20), dpi=120)\n",
    "    ax = plt.gca()\n",
    "    nx.draw_networkx_edges(g, pos=pos, ax=ax, width=1, alpha=1, arrows=False, edge_color='black') \n",
    "    nx.draw_networkx_nodes(g, pos=pos, ax=ax, node_color=node_color)\n",
    "    plt.box(False)\n",
    "    ax.grid(False)\n",
    "    plt.axis('off')\n",
    "    if save_name_cluster is not None:\n",
    "        plt.savefig(save_name_cluster, bbox_inches='tight')\n",
    "    plt.show()    \n",
    "    \n",
    "    plt.figure(2, figsize=(20, 20), dpi=120)\n",
    "    ax = plt.gca()\n",
    "    nx.draw_networkx_edges(g, pos=pos, ax=ax, width=1, alpha=1, arrows=False, edge_color='black') \n",
    "    nx.draw_networkx_nodes(g, pos=pos, ax=ax, node_color=node_color)\n",
    "    nx.draw_networkx_labels(g, pos, labeldict)\n",
    "    plt.show()    \n",
    "    for cluster_id in state_id_dict:\n",
    "        state_ids = np.hstack(states_list[np.where(node_color_ids == cluster_id)])\n",
    "        cluster_pop = ebc.pi[state_ids]\n",
    "        max_pop_id = np.argmax(cluster_pop)\n",
    "        max_pop = cluster_pop[max_pop_id]\n",
    "        state_id = state_ids[max_pop_id]\n",
    "        traj_id = ebc.select(state_id)\n",
    "        if save_pdb_frames:\n",
    "            trajectory[traj_id].save_pdb(f'frame_{cluster_id}_{tau}.pdb')\n",
    "        print(rmsds[traj_id], cluster_id, np.log(max_pop), traj_id)"
   ]
  },
  {
   "cell_type": "markdown",
   "id": "6bdb192f-c4eb-446f-8efc-86e679abe5c3",
   "metadata": {},
   "source": [
    "Use this cell if you have access to the trajectory file:"
   ]
  },
  {
   "cell_type": "code",
   "execution_count": null,
   "id": "ebc86f31-8e50-4228-85bb-a6df244be835",
   "metadata": {},
   "outputs": [],
   "source": [
    "STRIDE = 1\n",
    "potentials = np.load('data/TRP_CAGE_energies.npy', allow_pickle=True)[::STRIDE]\n",
    "trajectory = md.load('data/TRP_CAGE_trajectory.dcd', top='data/TRP_CAGE.pdb', stride=STRIDE) # not included due to size\n",
    "ref = md.load('data/TRP_CAGE.pdb')\n",
    "\n",
    "heavy_indices = [ida for ida, a in enumerate(ref.topology.atoms) if a.element.symbol != 'H']\n",
    "backbone_indices = ref.topology.select('backbone')\n",
    "n_atoms = trajectory.n_atoms\n",
    "trajectory = trajectory.atom_slice(backbone_indices)\n",
    "ref = ref.atom_slice(backbone_indices)\n",
    "trajectory = trajectory.superpose(ref)\n",
    "rmsds = md.rmsd(trajectory, ref)\n",
    "\n",
    "coords = trajectory.xyz\n",
    "coords = np.reshape(coords, [coords.shape[0], -1])\n",
    "\n",
    "pca = PCA(3)\n",
    "pca_coords = pca.fit_transform(coords)\n",
    "np.save('data/TRP_CAGE_pca_coords.npy', pca_coords)\n",
    "ref.save_pdb('ref.pdb')"
   ]
  },
  {
   "cell_type": "markdown",
   "id": "6021db7b-7f3d-4f17-8da8-62ddaf42b6b5",
   "metadata": {},
   "source": [
    "Otherwise, a low-dim version of the trajectory is available here"
   ]
  },
  {
   "cell_type": "code",
   "execution_count": null,
   "id": "0ef69702-bf2d-44c9-a9cb-59cbc9783585",
   "metadata": {},
   "outputs": [],
   "source": [
    "ref = md.load('data/TRP_CAGE.pdb')\n",
    "n_atoms = ref.n_atoms\n",
    "\n",
    "coords = np.load('data/TRP_CAGE_pca_coords.npy')\n",
    "potentials = np.load('data/TRP_CAGE_energies.npy')"
   ]
  },
  {
   "cell_type": "code",
   "execution_count": null,
   "id": "8747657b-133f-4e0a-a9a9-1c444adb772c",
   "metadata": {},
   "outputs": [],
   "source": [
    "potentials *= 1000\n",
    "potentials -= np.amin(potentials)\n",
    "potentials /= n_atoms\n",
    "potentials /= k * Avogadro"
   ]
  },
  {
   "cell_type": "code",
   "execution_count": null,
   "id": "8f294356-fefa-4d9b-96d1-3062a92ea4c0",
   "metadata": {},
   "outputs": [],
   "source": [
    "#ebc = EBC(temperature=100, proto_radius=0.5, pca_components=3, n_clusters=7, knn=16)\n",
    "#ebc.fit(coords, potentials)\n",
    "ebc = EBC(temperature=100, proto_radius=0.5, pca_components=3, n_clusters=7, knn=16)\n",
    "ebc.fit(coords, potentials)"
   ]
  },
  {
   "cell_type": "code",
   "execution_count": null,
   "id": "e8ab60f7-c430-4ca4-8374-73cce78ba5c0",
   "metadata": {},
   "outputs": [],
   "source": [
    "for tau in [75, 50, 60, 75, 100, 120, 125]:\n",
    "    plot_graph_and_clusters(ebc, tau=tau, save_pdb_frames=True, save_name_cluster=f'TAU{tau}.pdf', save_name_graph=f'TAU{tau}_graph.pdf')"
   ]
  },
  {
   "cell_type": "code",
   "execution_count": null,
   "id": "ed4fce9e-2594-4b8b-ad5d-7983602851ea",
   "metadata": {},
   "outputs": [],
   "source": [
    "for tau in [60, 120]:\n",
    "    plot_graph_and_clusters(ebc, tau=tau, save_pdb_frames=False)"
   ]
  },
  {
   "cell_type": "code",
   "execution_count": null,
   "id": "e9858d7b-adab-49e1-a2bf-c6fbbda3cbbf",
   "metadata": {},
   "outputs": [],
   "source": []
  }
 ],
 "metadata": {
  "kernelspec": {
   "display_name": "TFGPU",
   "language": "python",
   "name": "tfgpu"
  },
  "language_info": {
   "codemirror_mode": {
    "name": "ipython",
    "version": 3
   },
   "file_extension": ".py",
   "mimetype": "text/x-python",
   "name": "python",
   "nbconvert_exporter": "python",
   "pygments_lexer": "ipython3",
   "version": "3.9.15"
  }
 },
 "nbformat": 4,
 "nbformat_minor": 5
}
