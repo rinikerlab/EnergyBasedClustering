{
 "cells": [
  {
   "cell_type": "code",
   "execution_count": null,
   "id": "62f8a568-843f-41fa-93ca-838c53a537b9",
   "metadata": {},
   "outputs": [],
   "source": [
    "import matplotlib.pyplot as plt\n",
    "import numpy as np\n",
    "\n",
    "from ebc.Clustering import EBC"
   ]
  },
  {
   "cell_type": "code",
   "execution_count": null,
   "id": "88cf8c13-3dcd-4745-b7a1-e4b0a591075e",
   "metadata": {},
   "outputs": [],
   "source": [
    "##https://stackoverflow.com/questions/17809817/cantor-ternary-set-in-python-or-c\n",
    "def cantor(n):\n",
    "    return [0.] + cant(0., 1., n) + [1.]\n",
    "\n",
    "def cant(x, y, n):\n",
    "    if n == 0:\n",
    "        return []\n",
    "\n",
    "    new_pts = [2.*x/3. + y/3., x/3. + 2.*y/3.]\n",
    "    return cant(x, new_pts[0], n-1) + new_pts + cant(new_pts[1], y, n-1)\n",
    "\n",
    "figsize, dpi = (12, 10), 200\n",
    "fontsize = 24\n",
    "plt.rcParams.update({\n",
    "    \"text.usetex\": True,\n",
    "    \"font.family\": \"Helvetica\"\n",
    "})"
   ]
  },
  {
   "cell_type": "code",
   "execution_count": null,
   "id": "ac660e79-4d85-412f-9ed4-583aafd0a52d",
   "metadata": {
    "tags": []
   },
   "outputs": [],
   "source": [
    "parameters = []\n",
    "max_level = 5\n",
    "plt.figure(0, figsize=(12, 4), dpi=dpi)\n",
    "for n in range(max_level):\n",
    "    points = np.array(cantor(n))\n",
    "    points = np.split(points, len(points) // 2)\n",
    "    for point in points:\n",
    "        plt.hlines(-n / 1, point[0], point[1], color='black', linewidth=10)\n",
    "    mus = [(np.mean(point), (point[1] - point[0]), (1 / (n+1))) for point in points]\n",
    "    #parameters.append((mus, np.ones_like(mus) * (n + 2) ** 6))\n",
    "    parameters.append(mus)\n",
    "ax = plt.gca()\n",
    "ax.spines['left'].set_visible(False)\n",
    "ax.spines['top'].set_visible(False)\n",
    "ax.spines['right'].set_visible(False)\n",
    "ax.spines['bottom'].set_visible(False)    \n",
    "ax.get_xaxis().set_ticks([])\n",
    "ax.get_yaxis().set_ticks([])\n",
    "ax.set_ylabel(' . ', fontsize=14, labelpad=95, color='white')\n",
    "#plt.yticks(-np.arange(max_level), labels=['     ' for _ in range(max_level  )])\n",
    "#ax.get_xaxis().set_ticks()\n",
    "#plt.yticks(fontsize=14)\n",
    "plt.savefig('cantor.pdf', bbox_inches='tight')"
   ]
  },
  {
   "cell_type": "code",
   "execution_count": null,
   "id": "b5c4087d-a7b1-4ea3-9a5e-cadeac2b0a64",
   "metadata": {},
   "outputs": [],
   "source": [
    "parameters = np.vstack(parameters)[1:]\n",
    "xs = np.linspace(-0.0, 1.0, 1000)[:, None]\n",
    "\n",
    "offset = parameters.shape[0]\n",
    "contributions = np.maximum(0,  np.ceil(np.abs(xs - parameters[:, 0]) - parameters[:, 1] / 2)) # parameters[:, 2] *\n",
    "potential_energy = np.minimum(0, (np.sum(contributions, axis=-1) - offset) / (max_level - 1))"
   ]
  },
  {
   "cell_type": "code",
   "execution_count": null,
   "id": "55b670a7-87d0-4a79-a752-d60c74a2b2b2",
   "metadata": {},
   "outputs": [],
   "source": [
    "plt.figure(0, figsize=(12, 4), dpi=dpi)\n",
    "plt.plot(np.concatenate(([xs[0] - 1e-3], xs, [xs[-1] + 1e-3]), axis=0), np.concatenate(([0], potential_energy, [0]), axis=0), color='black', linewidth=4)\n",
    "ax = plt.gca()\n",
    "ax.spines['left'].set_visible(True)\n",
    "ax.spines['top'].set_visible(False)\n",
    "ax.spines['right'].set_visible(False)\n",
    "ax.spines['bottom'].set_visible(False)    \n",
    "ax.set_ylabel('Potential Energy [a.u.]', fontsize=fontsize, labelpad=18)\n",
    "ax.set_xlabel('Position [a.u.]', fontsize=fontsize, labelpad=10)\n",
    "ax.get_yaxis().set_ticks(np.linspace(-1, 0, 5), )\n",
    "ax.get_xaxis().set_ticks([])\n",
    "plt.yticks(fontsize=fontsize)\n",
    "plt.xticks(ticks=[n / 6 for n in range(7)] , labels=[0, str('1/6'), str('1/3'), str('1/2'), str('2/3'), str('5/6'), 1], fontsize=fontsize)\n",
    "#ax.get_yaxis().set_ticks([])\n",
    "plt.savefig('potential.pdf', bbox_inches='tight')"
   ]
  },
  {
   "cell_type": "code",
   "execution_count": null,
   "id": "90f56ee1-b5bb-4ac5-a1ff-0e35be5ba988",
   "metadata": {},
   "outputs": [],
   "source": [
    "ebc = EBC(n_clusters=2, proto_radius=0.0, use_sparse=True)\n",
    "ebc.fit(xs, potential_energy)"
   ]
  },
  {
   "cell_type": "code",
   "execution_count": null,
   "id": "2a1d9e83-703b-41f1-8440-2bdd6cd05a83",
   "metadata": {},
   "outputs": [],
   "source": [
    "fig = ebc.hierarchical(use_colormap=False, ymin=6.4, ymax=7.6, figsize=(12, 5), dpi=dpi, fontsize=fontsize, labelpad=46)\n",
    "ax = fig.gca()\n",
    "ax.get_yaxis().set_ticks([])\n",
    "ax.set_yticks([6.5, 7.0, 7.5])\n",
    "plt.yticks(fontsize=fontsize)\n",
    "fig.savefig('tree.pdf', bbox_inches='tight')"
   ]
  },
  {
   "cell_type": "code",
   "execution_count": null,
   "id": "fc488c59-9c92-497d-ad7f-fe2dc698f40a",
   "metadata": {},
   "outputs": [],
   "source": []
  }
 ],
 "metadata": {
  "kernelspec": {
   "display_name": "TFGPU",
   "language": "python",
   "name": "tfgpu"
  },
  "language_info": {
   "codemirror_mode": {
    "name": "ipython",
    "version": 3
   },
   "file_extension": ".py",
   "mimetype": "text/x-python",
   "name": "python",
   "nbconvert_exporter": "python",
   "pygments_lexer": "ipython3",
   "version": "3.10.12"
  }
 },
 "nbformat": 4,
 "nbformat_minor": 5
}
