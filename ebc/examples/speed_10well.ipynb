{
 "cells": [
  {
   "cell_type": "code",
   "execution_count": null,
   "id": "b1ec0402-ec39-421f-b7e6-9b9e7d75891d",
   "metadata": {},
   "outputs": [],
   "source": [
    "from sklearn import cluster, datasets, mixture\n",
    "from sklearn.cluster import SpectralClustering, DBSCAN, KMeans\n",
    "from sklearn.neighbors import KernelDensity, KDTree, BallTree, NearestNeighbors\n",
    "from scipy.spatial.distance import cdist, pdist, squareform\n",
    "\n",
    "import numpy as np\n",
    "\n",
    "import sys\n",
    "sys.path.append('..')\n",
    "from EBC import EBC"
   ]
  },
  {
   "cell_type": "code",
   "execution_count": null,
   "id": "0ad1caf5-5284-4cfc-ba40-3953e0f74e7f",
   "metadata": {},
   "outputs": [],
   "source": [
    "samples_full = np.load('data/10_well_trajectory_5.npy')\n",
    "energies_full = np.load('data/10_well_potential_5.npy') \n",
    "\n",
    "samples_1M = np.copy(samples_full)\n",
    "energies_1M = np.copy(energies_full)\n",
    "\n",
    "samples_100K = samples_full[::10]\n",
    "energies_100K = energies_full[::10]\n",
    "\n",
    "samples_10K = samples_full[::100]\n",
    "energies_10K = energies_full[::100]\n",
    "\n",
    "samples_1K = samples_full[::1000]\n",
    "energies_1K = energies_full[::1000]\n",
    "\n",
    "samples_100 = samples_full[::10000]\n",
    "energies_100 = energies_full[::10000]\n",
    "\n",
    "samples_partial =  samples_full[:100000][::10]\n",
    "energies_partial = energies_full[:100000][::10]\n",
    "\n",
    "samples_uni = np.load('data/uniform_sampling.npy')\n",
    "energies_uni = np.load('data/uniform_sampling_potentials.npy') "
   ]
  },
  {
   "cell_type": "code",
   "execution_count": null,
   "id": "658439ab-8d64-46f8-9f9c-6a43b4690f07",
   "metadata": {},
   "outputs": [],
   "source": [
    "ebc = EBC(n_clusters=10, proto_radius=0.6, verbose=False, use_sparse=True, mode='knn', pca_components=2)"
   ]
  },
  {
   "cell_type": "code",
   "execution_count": null,
   "id": "0e7a6513-b83b-4006-ab0f-4d54fc9b2087",
   "metadata": {
    "tags": []
   },
   "outputs": [],
   "source": [
    "%%timeit -n 10 -r 10\n",
    "ebc.fit(samples_1K, energies_1K)"
   ]
  },
  {
   "cell_type": "code",
   "execution_count": null,
   "id": "d47e9c7d-d7cb-4bee-8735-31c23bb9ebf2",
   "metadata": {},
   "outputs": [],
   "source": [
    "%%timeit -n 10 -r 10\n",
    "ebc.fit(samples_10K, energies_10K)"
   ]
  },
  {
   "cell_type": "code",
   "execution_count": null,
   "id": "cdfaaa91-37b9-479f-9598-8fd4e7dec51a",
   "metadata": {},
   "outputs": [],
   "source": [
    "%%timeit -n 10 -r 10\n",
    "ebc.fit(samples_100K, energies_100K)"
   ]
  },
  {
   "cell_type": "code",
   "execution_count": null,
   "id": "bf27b172-9787-4277-9ba0-93597501ad73",
   "metadata": {},
   "outputs": [],
   "source": [
    "%%timeit -n 10 -r 10\n",
    "ebc.fit(samples_1M, energies_1M)"
   ]
  },
  {
   "cell_type": "code",
   "execution_count": null,
   "id": "987f1c9c-4246-40aa-af29-64947cef2eb5",
   "metadata": {},
   "outputs": [],
   "source": [
    "kmeans = KMeans(10)"
   ]
  },
  {
   "cell_type": "code",
   "execution_count": null,
   "id": "6f7ab71d-06bc-43f6-977f-3234804d0673",
   "metadata": {},
   "outputs": [],
   "source": [
    "%%timeit -n 10 -r 10\n",
    "kmeans.fit(samples_1K)"
   ]
  },
  {
   "cell_type": "code",
   "execution_count": null,
   "id": "dff23ee1-667d-4e90-ae34-ad4283d37dcc",
   "metadata": {},
   "outputs": [],
   "source": [
    "%%timeit -n 10 -r 10\n",
    "kmeans.fit(samples_10K)"
   ]
  },
  {
   "cell_type": "code",
   "execution_count": null,
   "id": "7f4b6f59-3fd7-4c94-8979-d20a63c22f9f",
   "metadata": {},
   "outputs": [],
   "source": [
    "%%timeit -n 10 -r 10\n",
    "kmeans.fit(samples_100K)"
   ]
  },
  {
   "cell_type": "code",
   "execution_count": null,
   "id": "dbfb60b8-c001-475d-b8aa-e876a97e9d16",
   "metadata": {},
   "outputs": [],
   "source": [
    "%%timeit -n 10 -r 10\n",
    "kmeans.fit(samples_1M)"
   ]
  },
  {
   "cell_type": "code",
   "execution_count": null,
   "id": "074fe9e0-3ff8-4a41-868d-52dc81508567",
   "metadata": {},
   "outputs": [],
   "source": [
    "dbscan = DBSCAN()"
   ]
  },
  {
   "cell_type": "code",
   "execution_count": null,
   "id": "bb1cf1a4-f54b-42db-95ef-f4ed58bc50e2",
   "metadata": {},
   "outputs": [],
   "source": [
    "%%timeit -n 10 -r 10\n",
    "dbscan.fit(samples_1K)"
   ]
  },
  {
   "cell_type": "code",
   "execution_count": null,
   "id": "fb78a101-22bb-4fd6-b1b7-3f52963a31fb",
   "metadata": {},
   "outputs": [],
   "source": [
    "%%timeit -n 10 -r 10\n",
    "dbscan.fit(samples_10K)"
   ]
  },
  {
   "cell_type": "code",
   "execution_count": null,
   "id": "7630171a-7d5f-4d63-8910-13dc15a5971c",
   "metadata": {},
   "outputs": [],
   "source": [
    "%%timeit -n 10 -r 10\n",
    "dbscan.fit(samples_100K)"
   ]
  },
  {
   "cell_type": "code",
   "execution_count": null,
   "id": "edb251fa-4ccb-4e39-a651-93800eb1fdcf",
   "metadata": {},
   "outputs": [],
   "source": [
    "%%timeit -n 10 -r 10\n",
    "dbscan.fit(samples_1M)"
   ]
  }
 ],
 "metadata": {
  "kernelspec": {
   "display_name": "TFGPU",
   "language": "python",
   "name": "tfgpu"
  },
  "language_info": {
   "codemirror_mode": {
    "name": "ipython",
    "version": 3
   },
   "file_extension": ".py",
   "mimetype": "text/x-python",
   "name": "python",
   "nbconvert_exporter": "python",
   "pygments_lexer": "ipython3",
   "version": "3.9.15"
  }
 },
 "nbformat": 4,
 "nbformat_minor": 5
}
