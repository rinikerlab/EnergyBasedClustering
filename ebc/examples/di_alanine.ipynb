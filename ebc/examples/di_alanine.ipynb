{
 "cells": [
  {
   "cell_type": "code",
   "execution_count": null,
   "id": "c23da404-af17-4aaf-994b-7b8fb16ec2c9",
   "metadata": {},
   "outputs": [],
   "source": [
    "from ebc.Clustering import EBC\n",
    "\n",
    "import matplotlib.pyplot as plt\n",
    "import numpy as np\n",
    "import mdtraj as md\n",
    "import seaborn as sns\n",
    "\n",
    "from rdkit import Chem\n",
    "from rdkit.Chem import AllChem"
   ]
  },
  {
   "cell_type": "code",
   "execution_count": null,
   "id": "af0cc866-11cc-4192-8614-dea34c97681f",
   "metadata": {},
   "outputs": [],
   "source": [
    "plt.rc('text', usetex=True)\n",
    "plt.rc('font', family='serif')\n",
    "plt.rc('font', size=48)"
   ]
  },
  {
   "cell_type": "code",
   "execution_count": null,
   "id": "f2af1b55-1f17-43ca-bf5f-18f9f24b4f58",
   "metadata": {},
   "outputs": [],
   "source": [
    "N = 10000\n",
    "SYSTEM_NAME = 'ALAD'\n",
    "FOLDER = 'data/'"
   ]
  },
  {
   "cell_type": "code",
   "execution_count": null,
   "id": "c4b6c159-923e-49d6-8e44-df64ecc6f089",
   "metadata": {
    "tags": []
   },
   "outputs": [],
   "source": [
    "trajectory = md.load(f'{FOLDER}{SYSTEM_NAME}_trajectory.dcd', top=f'{FOLDER}{SYSTEM_NAME}_init.pdb')\n",
    "trajectory = trajectory.superpose(trajectory[0])\n",
    "phi, psi = md.compute_phi(trajectory)[1], md.compute_psi(trajectory)[1]\n",
    "torsions = np.concatenate((phi, psi), axis=-1) + np.pi\n",
    "energies = np.genfromtxt(f'{FOLDER}{SYSTEM_NAME}_trajectory.csv', delimiter='\\t', usecols=[2])\n",
    "torsions_rdkit = np.load(f'{FOLDER}{SYSTEM_NAME}_torsions_rdkit.npy') + np.pi\n",
    "energies_rdkit = np.load(f'{FOLDER}{SYSTEM_NAME}_energies_rdkit.npy')"
   ]
  },
  {
   "cell_type": "code",
   "execution_count": null,
   "id": "4891ab1e-beed-49e2-b73c-2e2e1bd538a2",
   "metadata": {},
   "outputs": [],
   "source": [
    "SKIP = 100\n",
    "plt.figure(0, figsize=(10, 10), dpi=400)\n",
    "\n",
    "plt.scatter(torsions[:, 0][::SKIP]-np.pi, torsions[:, 1][::SKIP]-np.pi, s=2, vmax=100, color='black', alpha=1, marker='.')\n",
    "sns.kdeplot(x=torsions[:, 0][::SKIP]-np.pi, y=torsions[:, 1][::SKIP] - np.pi,\\\n",
    "            levels=100, gridsize=100, fill=True, cmap=plt.cm.plasma, alpha=0.95, linewidth=0,\\\n",
    "            bw_adjust=0.5, thresh=1e-2)\n",
    "sns.kdeplot(x=torsions[:, 0][::SKIP]-np.pi, y=torsions[:, 1][::SKIP] - np.pi, levels=10, alpha=0.8, color='w')\n",
    "# , cbar=False, cbar_kws={\"ticks\":[0.05, 0.1, 0.2, 0.3, 0.4], \"label\": \"Sampling Density [\\%]\"}\n",
    "#, cbar=True, cbar_kws={\"ticks\":[0.05, 0.1, 0.2, 0.3, 0.4]}\n",
    "ax = plt.gca()\n",
    "ax.set_ylim(-np.pi, np.pi)\n",
    "ax.set_xlim(-np.pi, np.pi)\n",
    "plt.xticks([-np.pi / 2, np.pi / 2], [r\"-$\\frac{\\pi}{2}$\", r\"$\\frac{\\pi}{2}$\"],)\n",
    "plt.yticks([-np.pi / 2, np.pi / 2], [r\"-$\\frac{\\pi}{2}$\", r\"$\\frac{\\pi}{2}$\"],)\n",
    "ax.set_xlabel('$\\phi$ [rad]', labelpad=10)\n",
    "ax.set_ylabel('$\\psi$ [rad]', labelpad=10)\n",
    "ax.spines['left'].set_visible(False)\n",
    "ax.spines['top'].set_visible(False)\n",
    "ax.spines['right'].set_visible(False)\n",
    "ax.spines['bottom'].set_visible(False) \n",
    "\n",
    "#plt.savefig('sampling_md.png', bbox_inches='tight')\n",
    "#plt.savefig('sampling_md.pdf', bbox_inches='tight')"
   ]
  },
  {
   "cell_type": "code",
   "execution_count": null,
   "id": "9d85849c-573e-4e1d-99b2-e7a48d564214",
   "metadata": {
    "tags": []
   },
   "outputs": [],
   "source": [
    "SKIP = 100\n",
    "plt.figure(20, figsize=(10, 10), dpi=400)\n",
    "\n",
    "plt.scatter(torsions_rdkit[:, 0][::SKIP]-np.pi, torsions_rdkit[:, 1][::SKIP]-np.pi, s=2, vmax=100, color='black', alpha=1, marker='.')\n",
    "sns.kdeplot(x=torsions_rdkit[:, 0][::SKIP]-np.pi, y=torsions_rdkit[:, 1][::SKIP] - np.pi,\\\n",
    "            levels=100, gridsize=100, fill=True, cmap=plt.cm.plasma, alpha=0.95, linewidth=0,\\\n",
    "            bw_adjust=0.5, thresh=1e-2)\n",
    "sns.kdeplot(x=torsions_rdkit[:, 0][::SKIP]-np.pi, y=torsions_rdkit[:, 1][::SKIP] - np.pi, levels=10, alpha=0.8, color='w')\n",
    "# , cbar=False, cbar_kws={\"ticks\":[0.05, 0.1, 0.2, 0.3, 0.4], \"label\": \"Sampling Density [\\%]\"}\n",
    "ax = plt.gca()\n",
    "ax.set_ylim(-np.pi, np.pi)\n",
    "ax.set_xlim(-np.pi, np.pi)\n",
    "plt.xticks([-np.pi / 2, np.pi / 2], [r\"-$\\frac{\\pi}{2}$\", r\"$\\frac{\\pi}{2}$\"],)\n",
    "plt.yticks([-np.pi / 2, np.pi / 2], [r\"-$\\frac{\\pi}{2}$\", r\"$\\frac{\\pi}{2}$\"],)\n",
    "ax.set_xlabel('$\\phi$ [rad]', labelpad=10)\n",
    "ax.set_ylabel('$\\psi$ [rad]', labelpad=10)\n",
    "ax.spines['left'].set_visible(False)\n",
    "ax.spines['top'].set_visible(False)\n",
    "ax.spines['right'].set_visible(False)\n",
    "ax.spines['bottom'].set_visible(False) \n",
    "\n",
    "#plt.savefig('sampling_rdkit.png', bbox_inches='tight')\n",
    "#plt.savefig('sampling_rdkit.pdf', bbox_inches='tight')"
   ]
  },
  {
   "cell_type": "code",
   "execution_count": null,
   "id": "334a78a0-3ffa-49a2-8815-cbdc0fb60169",
   "metadata": {
    "tags": []
   },
   "outputs": [],
   "source": [
    "ebc = EBC(temperature=100, n_clusters=5, proto_radius=0.1, knn=20, boxsize=2 * np.pi, use_sparse=True) #proto_radius=6, n_clusters=9, #\n",
    "ebc.fit(torsions_rdkit, energies_rdkit)\n",
    "ebc._prepare_coordinates_2D()  \n",
    "ebc.show()"
   ]
  },
  {
   "cell_type": "code",
   "execution_count": null,
   "id": "03eb967e-0d8c-48f4-bf36-f9fba1c83753",
   "metadata": {},
   "outputs": [],
   "source": [
    "s=10\n",
    "s_big=250\n",
    "alpha_proto=1\n",
    "fig = plt.figure(0, figsize=(12, 10), dpi=400, facecolor='white')\n",
    "#plt.scatter(ebc._states_2D[:, 0], ebc._states_2D[:, 1], c=-ebc.energies, s=s, cmap=plt.cm.inferno, zorder=-1, alpha=1.0) \n",
    "#for idk, cluster_key in enumerate(ebc._cluster_ids):\n",
    "#    coords = ebc._proto_2D[ebc.get_cluster_members(cluster_key)]\n",
    "#    plt.scatter(coords[:, 0], coords[:, 1], color=ebc.cluster_colormap[idk], s=s_big, alpha=alpha_proto)\n",
    "ax = plt.gca()\n",
    "ax.grid(False)\n",
    "plt.scatter(ebc._proto_2D[:, 0], ebc._proto_2D[:, 1], c=ebc.pi * 100, s=100, cmap=plt.cm.plasma, zorder=100, alpha=1.0)\n",
    "cbar = plt.colorbar()\n",
    "cbar.set_label('Population [\\%]', labelpad=30) # [\\%]\n",
    "cbar.outline.set_visible(False)\n",
    "cbar.set_ticks([0.0, 0.3, 0.6])\n",
    "plt.box(False)\n",
    "ax.set_ylim(-np.pi+np.pi, np.pi+np.pi)\n",
    "ax.set_xlim(-np.pi+np.pi, np.pi+np.pi)\n",
    "plt.xticks([-np.pi / 2 +np.pi, np.pi / 2 +np.pi], [r\"-$\\frac{\\pi}{2}$\", r\"$\\frac{\\pi}{2}$\"],)\n",
    "plt.yticks([])\n",
    "ax.set_xlabel('$\\phi$ [rad]', labelpad=10)\n",
    "#ax.set_ylabel('$\\psi$ [rad]', labelpad=10)\n",
    "ax.spines['left'].set_visible(False)\n",
    "ax.spines['top'].set_visible(False)\n",
    "ax.spines['right'].set_visible(False)\n",
    "ax.spines['bottom'].set_visible(False) \n",
    "\n",
    "#plt.savefig('populations_rdkit.pdf', bbox_inches='tight')"
   ]
  },
  {
   "cell_type": "code",
   "execution_count": null,
   "id": "4a4fca7f-450f-4032-984a-bd1439d038a7",
   "metadata": {},
   "outputs": [],
   "source": [
    "s=10\n",
    "s_big=75\n",
    "alpha_proto=1\n",
    "fig = plt.figure(0, figsize=(10, 10), dpi=400, facecolor='white')\n",
    "#plt.scatter(ebc._states_2D[:, 0], ebc._states_2D[:, 1], c=-ebc.energies, s=s, cmap=plt.cm.inferno, zorder=-1, alpha=1.0) \n",
    "for idk, cluster_key in enumerate(ebc._cluster_ids):\n",
    "    coords = ebc._proto_2D[ebc.get_cluster_members(cluster_key)]\n",
    "    plt.scatter(coords[:, 0], coords[:, 1], color=ebc.cluster_colormap[idk], s=s_big, alpha=alpha_proto)\n",
    "ax = plt.gca()\n",
    "ax.grid(False)\n",
    "#plt.scatter(ebc._proto_2D[:, 0], ebc._proto_2D[:, 1], c=ebc.pi * 100, s=75, cmap=plt.cm.plasma, zorder=100, alpha=0.8)\n",
    "#cbar = plt.colorbar()\n",
    "cbar.set_label('Population', labelpad=30) # [\\%]\n",
    "cbar.outline.set_visible(False)\n",
    "cbar.set_ticks([])\n",
    "plt.box(False)\n",
    "ax.set_ylim(-np.pi+np.pi, np.pi+np.pi)\n",
    "ax.set_xlim(-np.pi+np.pi, np.pi+np.pi)\n",
    "plt.xticks([-np.pi / 2 +np.pi, np.pi / 2 +np.pi], [r\"-$\\frac{\\pi}{2}$\", r\"$\\frac{\\pi}{2}$\"],)\n",
    "plt.yticks([])\n",
    "ax.set_xlabel('$\\phi$ [rad]', labelpad=10)\n",
    "#ax.set_ylabel('$\\psi$ [rad]', labelpad=10)\n",
    "ax.spines['left'].set_visible(False)\n",
    "ax.spines['top'].set_visible(False)\n",
    "ax.spines['right'].set_visible(False)\n",
    "ax.spines['bottom'].set_visible(False) \n",
    "\n",
    "plt.savefig('clusters_rdkit.pdf', bbox_inches='tight')"
   ]
  },
  {
   "cell_type": "code",
   "execution_count": null,
   "id": "8355c910-b7e0-4027-b8a1-11b070cf9834",
   "metadata": {},
   "outputs": [],
   "source": [
    "ebc = EBC(temperature=100, n_clusters=5, knn=20, proto_radius=0.1, boxsize=2 * np.pi, use_sparse=True) #proto_radius=6, n_clusters=9, #\n",
    "ebc.fit(torsions, energies)"
   ]
  },
  {
   "cell_type": "code",
   "execution_count": null,
   "id": "4c3deb2a-fc57-4ab4-817e-0976a6220695",
   "metadata": {},
   "outputs": [],
   "source": [
    "ebc._prepare_coordinates_2D()  \n",
    "cluster_colormap = {\n",
    "    0: (1.0, 0.4980392156862745, 0.054901960784313725),    \n",
    "    1: (0.12156862745098039, 0.4666666666666667, 0.7058823529411765),    \n",
    "    4: (0.17254901960784313, 0.6274509803921569, 0.17254901960784313),\n",
    "    3: (0.5803921568627451, 0.403921568627451, 0.7411764705882353),\n",
    "    2: (0.8392156862745098, 0.15294117647058825, 0.1568627450980392),\n",
    "}\n",
    "ebc.cluster_colormap = cluster_colormap"
   ]
  },
  {
   "cell_type": "code",
   "execution_count": null,
   "id": "d9c666a5-98c8-4d39-b6cb-e810487472ae",
   "metadata": {},
   "outputs": [],
   "source": [
    "s=10\n",
    "s_big=250\n",
    "alpha_proto=1\n",
    "fig = plt.figure(0, figsize=(12, 10), dpi=400, facecolor='white')\n",
    "#plt.scatter(ebc._states_2D[:, 0], ebc._states_2D[:, 1], c=-ebc.energies, s=s, cmap=plt.cm.inferno, zorder=-1, alpha=1.0) \n",
    "#for idk, cluster_key in enumerate(ebc._cluster_ids):\n",
    "#    coords = ebc._proto_2D[ebc.get_cluster_members(cluster_key)]\n",
    "#    plt.scatter(coords[:, 0], coords[:, 1], color=ebc.cluster_colormap[idk], s=s_big, alpha=alpha_proto)\n",
    "ax = plt.gca()\n",
    "ax.grid(False)\n",
    "plt.scatter(ebc._proto_2D[:, 0], ebc._proto_2D[:, 1], c=ebc.pi * 100, s=100, cmap=plt.cm.plasma, zorder=100, alpha=1.0)\n",
    "cbar = plt.colorbar()\n",
    "cbar.set_label('Population [\\%]', labelpad=30) # [\\%]\n",
    "cbar.outline.set_visible(False)\n",
    "cbar.set_ticks([0.0, 0.1, 0.2])\n",
    "plt.box(False)\n",
    "ax.set_ylim(-np.pi+np.pi, np.pi+np.pi)\n",
    "ax.set_xlim(-np.pi+np.pi, np.pi+np.pi)\n",
    "plt.xticks([-np.pi / 2 +np.pi, np.pi / 2 +np.pi], [r\"-$\\frac{\\pi}{2}$\", r\"$\\frac{\\pi}{2}$\"],)\n",
    "plt.yticks([],)\n",
    "ax.set_xlabel('$\\phi$ [rad]', labelpad=10)\n",
    "#ax.set_ylabel('$\\psi$ [rad]', labelpad=10)\n",
    "ax.spines['left'].set_visible(False)\n",
    "ax.spines['top'].set_visible(False)\n",
    "ax.spines['right'].set_visible(False)\n",
    "ax.spines['bottom'].set_visible(False) \n",
    "plt.savefig('populations_md.pdf', bbox_inches='tight')"
   ]
  },
  {
   "cell_type": "code",
   "execution_count": null,
   "id": "81fcc348-e5eb-497a-a0ee-3ec2e6d57f32",
   "metadata": {},
   "outputs": [],
   "source": [
    "s=10\n",
    "s_big=75\n",
    "alpha_proto=1\n",
    "fig = plt.figure(0, figsize=(10, 10), dpi=400, facecolor='white')\n",
    "#plt.scatter(ebc._states_2D[:, 0], ebc._states_2D[:, 1], c=-ebc.energies, s=s, cmap=plt.cm.inferno, zorder=-1, alpha=1.0) \n",
    "for idk, cluster_key in enumerate(ebc._cluster_ids):\n",
    "    coords = ebc._proto_2D[ebc.get_cluster_members(cluster_key)]\n",
    "    plt.scatter(coords[:, 0], coords[:, 1], color=ebc.cluster_colormap[idk], s=s_big, alpha=alpha_proto)\n",
    "ax = plt.gca()\n",
    "ax.grid(False)\n",
    "#plt.scatter(ebc._proto_2D[:, 0], ebc._proto_2D[:, 1], c=ebc.pi * 100, s=100, cmap=plt.cm.plasma, zorder=100, alpha=1.0)\n",
    "#cbar = plt.colorbar()\n",
    "#cbar.set_label('Population [\\%]', labelpad=20) # [\\%]\n",
    "#cbar.outline.set_visible(False)\n",
    "#cbar.set_ticks([])\n",
    "plt.box(False)\n",
    "ax.set_ylim(-np.pi+np.pi, np.pi+np.pi)\n",
    "ax.set_xlim(-np.pi+np.pi, np.pi+np.pi)\n",
    "plt.xticks([-np.pi / 2 +np.pi, np.pi / 2 +np.pi], [r\"-$\\frac{\\pi}{2}$\", r\"$\\frac{\\pi}{2}$\"],)\n",
    "plt.yticks([],)\n",
    "ax.set_xlabel('$\\phi$ [rad]', labelpad=10)\n",
    "#ax.set_ylabel('$\\psi$ [rad]', labelpad=10)\n",
    "ax.spines['left'].set_visible(False)\n",
    "ax.spines['top'].set_visible(False)\n",
    "ax.spines['right'].set_visible(False)\n",
    "ax.spines['bottom'].set_visible(False) \n",
    "plt.savefig('clusters_md.pdf', bbox_inches='tight')"
   ]
  },
  {
   "cell_type": "code",
   "execution_count": null,
   "id": "9c355e75-fc0f-4656-abb4-16637a5e2f12",
   "metadata": {},
   "outputs": [],
   "source": []
  }
 ],
 "metadata": {
  "kernelspec": {
   "display_name": "TFGPU",
   "language": "python",
   "name": "tfgpu"
  },
  "language_info": {
   "codemirror_mode": {
    "name": "ipython",
    "version": 3
   },
   "file_extension": ".py",
   "mimetype": "text/x-python",
   "name": "python",
   "nbconvert_exporter": "python",
   "pygments_lexer": "ipython3",
   "version": "3.10.12"
  }
 },
 "nbformat": 4,
 "nbformat_minor": 5
}
